{
 "cells": [
  {
   "cell_type": "code",
   "execution_count": 1,
   "metadata": {},
   "outputs": [],
   "source": [
    "import sys\n",
    "sys.path.append(\"..\")\n",
    "from radcloud.models.unet import unet\n",
    "from radcloud.trainer import Trainer\n",
    "\n",
    "#loss functions\n",
    "from radcloud.losses.BCE_dice_loss import BCE_DICE_Loss\n",
    "from radcloud.losses.dice_loss import DiceLoss\n",
    "from radcloud.losses.focal_loss import FocalLoss\n",
    "from radcloud.transforms.random_radar_noise import RandomRadarNoise\n",
    "\n",
    "#other torch functions\n",
    "from torch.nn import BCEWithLogitsLoss\n",
    "from torchvision import transforms\n",
    "import sys"
   ]
  },
  {
   "cell_type": "code",
   "execution_count": null,
   "metadata": {},
   "outputs": [],
   "source": [
    "#initialize the unet\n",
    "unet_model = unet(\n",
    "    encoder_input_channels= 40,\n",
    "    encoder_out_channels= (64,128,256),\n",
    "    decoder_input_channels= (512,256,128),\n",
    "    decoder_out_channels= 64,\n",
    "    output_channels= 1,\n",
    "    retain_dimmension= False,\n",
    "    input_dimmensions= (64,48)\n",
    ")\n",
    "\n",
    "#initialize the transforms to use\n",
    "input_transforms = [\n",
    "    RandomRadarNoise(noise_level=0.0),\n",
    "    transforms.ToTensor(),\n",
    "    transforms.Resize((64,48))\n",
    "]\n",
    "\n",
    "output_transforms = [\n",
    "    transforms.ToTensor(),\n",
    "    transforms.Resize((64,48))\n",
    "]"
   ]
  },
  {
   "cell_type": "code",
   "execution_count": null,
   "metadata": {},
   "outputs": [
    {
     "name": "stdout",
     "output_type": "stream",
     "text": [
      "[INFO] saving test image paths...\n",
      "ModelTrainer._init_test_train_dataset: found 21079 samples in training dataset\n",
      "ModelTrainer._init_test_train_dataset: found 3720 samples in test dataset\n"
     ]
    }
   ],
   "source": [
    "#initialize the model training\n",
    "model_trainer = Trainer(\n",
    "    model= unet_model,\n",
    "    dataset_path= \"../data/train\",\n",
    "    input_directory=\"radar\",\n",
    "    output_directory=\"lidar\",\n",
    "    test_split= 0.15,\n",
    "    working_dir=\"../working_dir\",\n",
    "    save_name=\"RadCloud_40_chirps_10e\",\n",
    "    input_transforms=input_transforms,\n",
    "    output_transforms=output_transforms,\n",
    "    batch_size= 256,\n",
    "    epochs=10, #20\n",
    "    learning_rate=0.001,\n",
    "    loss_fn= BCE_DICE_Loss(dice_weight=0.1,dice_smooth=1),\n",
    "    cuda_device='cuda:0',\n",
    "    multiple_GPUs=False\n",
    ")"
   ]
  },
  {
   "cell_type": "code",
   "execution_count": null,
   "metadata": {},
   "outputs": [
    {
     "name": "stdout",
     "output_type": "stream",
     "text": [
      "ModelTrainer.train: training the network...\n"
     ]
    },
    {
     "name": "stderr",
     "output_type": "stream",
     "text": [
      "  2%|▎         | 1/40 [01:24<54:36, 84.01s/it]"
     ]
    },
    {
     "name": "stdout",
     "output_type": "stream",
     "text": [
      "EPOCH: 1/40\n",
      "\t Train loss: 0.11379477381706238, Test loss:0.09454776346683502\n"
     ]
    },
    {
     "name": "stderr",
     "output_type": "stream",
     "text": [
      "  5%|▌         | 2/40 [02:48<53:19, 84.18s/it]"
     ]
    },
    {
     "name": "stdout",
     "output_type": "stream",
     "text": [
      "EPOCH: 2/40\n",
      "\t Train loss: 0.09282579272985458, Test loss:0.08816584199666977\n"
     ]
    },
    {
     "name": "stderr",
     "output_type": "stream",
     "text": [
      "  8%|▊         | 3/40 [04:12<51:56, 84.24s/it]"
     ]
    },
    {
     "name": "stdout",
     "output_type": "stream",
     "text": [
      "EPOCH: 3/40\n",
      "\t Train loss: 0.08671854436397552, Test loss:0.08440934121608734\n"
     ]
    },
    {
     "name": "stderr",
     "output_type": "stream",
     "text": [
      " 10%|█         | 4/40 [05:36<50:33, 84.27s/it]"
     ]
    },
    {
     "name": "stdout",
     "output_type": "stream",
     "text": [
      "EPOCH: 4/40\n",
      "\t Train loss: 0.08274265378713608, Test loss:0.08036457747220993\n"
     ]
    },
    {
     "name": "stderr",
     "output_type": "stream",
     "text": [
      " 12%|█▎        | 5/40 [07:01<49:10, 84.31s/it]"
     ]
    },
    {
     "name": "stdout",
     "output_type": "stream",
     "text": [
      "EPOCH: 5/40\n",
      "\t Train loss: 0.07956286519765854, Test loss:0.0784619078040123\n"
     ]
    },
    {
     "name": "stderr",
     "output_type": "stream",
     "text": [
      " 15%|█▌        | 6/40 [08:25<47:47, 84.33s/it]"
     ]
    },
    {
     "name": "stdout",
     "output_type": "stream",
     "text": [
      "EPOCH: 6/40\n",
      "\t Train loss: 0.07753710448741913, Test loss:0.07621808350086212\n"
     ]
    },
    {
     "name": "stderr",
     "output_type": "stream",
     "text": [
      " 18%|█▊        | 7/40 [09:50<46:26, 84.44s/it]"
     ]
    },
    {
     "name": "stdout",
     "output_type": "stream",
     "text": [
      "EPOCH: 7/40\n",
      "\t Train loss: 0.07568421214818954, Test loss:0.07513484358787537\n"
     ]
    },
    {
     "name": "stderr",
     "output_type": "stream",
     "text": [
      " 20%|██        | 8/40 [11:14<45:00, 84.38s/it]"
     ]
    },
    {
     "name": "stdout",
     "output_type": "stream",
     "text": [
      "EPOCH: 8/40\n",
      "\t Train loss: 0.07431405782699585, Test loss:0.07336006313562393\n"
     ]
    },
    {
     "name": "stderr",
     "output_type": "stream",
     "text": [
      " 22%|██▎       | 9/40 [12:38<43:34, 84.35s/it]"
     ]
    },
    {
     "name": "stdout",
     "output_type": "stream",
     "text": [
      "EPOCH: 9/40\n",
      "\t Train loss: 0.07316067069768906, Test loss:0.07347996532917023\n"
     ]
    },
    {
     "name": "stderr",
     "output_type": "stream",
     "text": [
      " 25%|██▌       | 10/40 [14:03<42:10, 84.34s/it]"
     ]
    },
    {
     "name": "stdout",
     "output_type": "stream",
     "text": [
      "EPOCH: 10/40\n",
      "\t Train loss: 0.07218664884567261, Test loss:0.07237584888935089\n"
     ]
    },
    {
     "name": "stderr",
     "output_type": "stream",
     "text": [
      " 28%|██▊       | 11/40 [15:27<40:45, 84.31s/it]"
     ]
    },
    {
     "name": "stdout",
     "output_type": "stream",
     "text": [
      "EPOCH: 11/40\n",
      "\t Train loss: 0.07131875306367874, Test loss:0.07099048048257828\n"
     ]
    },
    {
     "name": "stderr",
     "output_type": "stream",
     "text": [
      " 30%|███       | 12/40 [16:51<39:20, 84.30s/it]"
     ]
    },
    {
     "name": "stdout",
     "output_type": "stream",
     "text": [
      "EPOCH: 12/40\n",
      "\t Train loss: 0.07060722261667252, Test loss:0.07085240632295609\n"
     ]
    },
    {
     "name": "stderr",
     "output_type": "stream",
     "text": [
      " 32%|███▎      | 13/40 [18:16<37:56, 84.30s/it]"
     ]
    },
    {
     "name": "stdout",
     "output_type": "stream",
     "text": [
      "EPOCH: 13/40\n",
      "\t Train loss: 0.06982065737247467, Test loss:0.07190309464931488\n"
     ]
    },
    {
     "name": "stderr",
     "output_type": "stream",
     "text": [
      " 35%|███▌      | 14/40 [19:40<36:30, 84.26s/it]"
     ]
    },
    {
     "name": "stdout",
     "output_type": "stream",
     "text": [
      "EPOCH: 14/40\n",
      "\t Train loss: 0.06936891376972198, Test loss:0.0697927325963974\n"
     ]
    },
    {
     "name": "stderr",
     "output_type": "stream",
     "text": [
      " 38%|███▊      | 15/40 [21:04<35:06, 84.26s/it]"
     ]
    },
    {
     "name": "stdout",
     "output_type": "stream",
     "text": [
      "EPOCH: 15/40\n",
      "\t Train loss: 0.06878223270177841, Test loss:0.06944258511066437\n"
     ]
    },
    {
     "name": "stderr",
     "output_type": "stream",
     "text": [
      " 40%|████      | 16/40 [22:28<33:42, 84.26s/it]"
     ]
    },
    {
     "name": "stdout",
     "output_type": "stream",
     "text": [
      "EPOCH: 16/40\n",
      "\t Train loss: 0.06821456551551819, Test loss:0.06956257671117783\n"
     ]
    },
    {
     "name": "stderr",
     "output_type": "stream",
     "text": [
      " 42%|████▎     | 17/40 [23:53<32:18, 84.27s/it]"
     ]
    },
    {
     "name": "stdout",
     "output_type": "stream",
     "text": [
      "EPOCH: 17/40\n",
      "\t Train loss: 0.06788522005081177, Test loss:0.0689506083726883\n"
     ]
    },
    {
     "name": "stderr",
     "output_type": "stream",
     "text": [
      " 45%|████▌     | 18/40 [25:17<30:53, 84.26s/it]"
     ]
    },
    {
     "name": "stdout",
     "output_type": "stream",
     "text": [
      "EPOCH: 18/40\n",
      "\t Train loss: 0.06743133813142776, Test loss:0.06950993090867996\n"
     ]
    },
    {
     "name": "stderr",
     "output_type": "stream",
     "text": [
      " 48%|████▊     | 19/40 [26:41<29:29, 84.27s/it]"
     ]
    },
    {
     "name": "stdout",
     "output_type": "stream",
     "text": [
      "EPOCH: 19/40\n",
      "\t Train loss: 0.06699323654174805, Test loss:0.06903833895921707\n"
     ]
    },
    {
     "name": "stderr",
     "output_type": "stream",
     "text": [
      " 50%|█████     | 20/40 [28:05<28:05, 84.26s/it]"
     ]
    },
    {
     "name": "stdout",
     "output_type": "stream",
     "text": [
      "EPOCH: 20/40\n",
      "\t Train loss: 0.066729336977005, Test loss:0.06900432705879211\n"
     ]
    },
    {
     "name": "stderr",
     "output_type": "stream",
     "text": [
      " 52%|█████▎    | 21/40 [29:30<26:41, 84.27s/it]"
     ]
    },
    {
     "name": "stdout",
     "output_type": "stream",
     "text": [
      "EPOCH: 21/40\n",
      "\t Train loss: 0.06624764204025269, Test loss:0.06830243021249771\n"
     ]
    },
    {
     "name": "stderr",
     "output_type": "stream",
     "text": [
      " 55%|█████▌    | 22/40 [30:54<25:16, 84.27s/it]"
     ]
    },
    {
     "name": "stdout",
     "output_type": "stream",
     "text": [
      "EPOCH: 22/40\n",
      "\t Train loss: 0.06583333015441895, Test loss:0.06844156235456467\n"
     ]
    },
    {
     "name": "stderr",
     "output_type": "stream",
     "text": [
      " 57%|█████▊    | 23/40 [32:18<23:52, 84.29s/it]"
     ]
    },
    {
     "name": "stdout",
     "output_type": "stream",
     "text": [
      "EPOCH: 23/40\n",
      "\t Train loss: 0.06545712798833847, Test loss:0.0680520087480545\n"
     ]
    },
    {
     "name": "stderr",
     "output_type": "stream",
     "text": [
      " 60%|██████    | 24/40 [33:42<22:28, 84.29s/it]"
     ]
    },
    {
     "name": "stdout",
     "output_type": "stream",
     "text": [
      "EPOCH: 24/40\n",
      "\t Train loss: 0.06530517339706421, Test loss:0.06872883439064026\n"
     ]
    },
    {
     "name": "stderr",
     "output_type": "stream",
     "text": [
      " 62%|██████▎   | 25/40 [35:07<21:03, 84.25s/it]"
     ]
    },
    {
     "name": "stdout",
     "output_type": "stream",
     "text": [
      "EPOCH: 25/40\n",
      "\t Train loss: 0.06507391482591629, Test loss:0.06799742579460144\n"
     ]
    },
    {
     "name": "stderr",
     "output_type": "stream",
     "text": [
      " 65%|██████▌   | 26/40 [36:31<19:39, 84.23s/it]"
     ]
    },
    {
     "name": "stdout",
     "output_type": "stream",
     "text": [
      "EPOCH: 26/40\n",
      "\t Train loss: 0.06462734937667847, Test loss:0.06806972622871399\n"
     ]
    },
    {
     "name": "stderr",
     "output_type": "stream",
     "text": [
      " 68%|██████▊   | 27/40 [37:55<18:15, 84.24s/it]"
     ]
    },
    {
     "name": "stdout",
     "output_type": "stream",
     "text": [
      "EPOCH: 27/40\n",
      "\t Train loss: 0.06438551843166351, Test loss:0.06827661395072937\n"
     ]
    },
    {
     "name": "stderr",
     "output_type": "stream",
     "text": [
      " 70%|███████   | 28/40 [39:19<16:50, 84.23s/it]"
     ]
    },
    {
     "name": "stdout",
     "output_type": "stream",
     "text": [
      "EPOCH: 28/40\n",
      "\t Train loss: 0.06416197121143341, Test loss:0.0681101605296135\n"
     ]
    },
    {
     "name": "stderr",
     "output_type": "stream",
     "text": [
      " 72%|███████▎  | 29/40 [40:43<15:26, 84.22s/it]"
     ]
    },
    {
     "name": "stdout",
     "output_type": "stream",
     "text": [
      "EPOCH: 29/40\n",
      "\t Train loss: 0.06390819698572159, Test loss:0.06854749470949173\n"
     ]
    },
    {
     "name": "stderr",
     "output_type": "stream",
     "text": [
      " 75%|███████▌  | 30/40 [42:08<14:02, 84.23s/it]"
     ]
    },
    {
     "name": "stdout",
     "output_type": "stream",
     "text": [
      "EPOCH: 30/40\n",
      "\t Train loss: 0.0635848268866539, Test loss:0.06790393590927124\n"
     ]
    },
    {
     "name": "stderr",
     "output_type": "stream",
     "text": [
      " 78%|███████▊  | 31/40 [43:32<12:38, 84.23s/it]"
     ]
    },
    {
     "name": "stdout",
     "output_type": "stream",
     "text": [
      "EPOCH: 31/40\n",
      "\t Train loss: 0.06332164257764816, Test loss:0.06887266784906387\n"
     ]
    },
    {
     "name": "stderr",
     "output_type": "stream",
     "text": [
      " 80%|████████  | 32/40 [44:56<11:13, 84.23s/it]"
     ]
    },
    {
     "name": "stdout",
     "output_type": "stream",
     "text": [
      "EPOCH: 32/40\n",
      "\t Train loss: 0.06309422105550766, Test loss:0.06777092069387436\n"
     ]
    },
    {
     "name": "stderr",
     "output_type": "stream",
     "text": [
      " 82%|████████▎ | 33/40 [46:20<09:49, 84.23s/it]"
     ]
    },
    {
     "name": "stdout",
     "output_type": "stream",
     "text": [
      "EPOCH: 33/40\n",
      "\t Train loss: 0.06294327974319458, Test loss:0.06808684766292572\n"
     ]
    },
    {
     "name": "stderr",
     "output_type": "stream",
     "text": [
      " 85%|████████▌ | 34/40 [47:45<08:25, 84.25s/it]"
     ]
    },
    {
     "name": "stdout",
     "output_type": "stream",
     "text": [
      "EPOCH: 34/40\n",
      "\t Train loss: 0.06270106881856918, Test loss:0.0679517611861229\n"
     ]
    },
    {
     "name": "stderr",
     "output_type": "stream",
     "text": [
      " 88%|████████▊ | 35/40 [49:09<07:01, 84.25s/it]"
     ]
    },
    {
     "name": "stdout",
     "output_type": "stream",
     "text": [
      "EPOCH: 35/40\n",
      "\t Train loss: 0.062418535351753235, Test loss:0.0678495317697525\n"
     ]
    },
    {
     "name": "stderr",
     "output_type": "stream",
     "text": [
      " 90%|█████████ | 36/40 [50:33<05:37, 84.25s/it]"
     ]
    },
    {
     "name": "stdout",
     "output_type": "stream",
     "text": [
      "EPOCH: 36/40\n",
      "\t Train loss: 0.06224019452929497, Test loss:0.06844401359558105\n"
     ]
    },
    {
     "name": "stderr",
     "output_type": "stream",
     "text": [
      " 92%|█████████▎| 37/40 [51:57<04:12, 84.24s/it]"
     ]
    },
    {
     "name": "stdout",
     "output_type": "stream",
     "text": [
      "EPOCH: 37/40\n",
      "\t Train loss: 0.06198267266154289, Test loss:0.0681731328368187\n"
     ]
    },
    {
     "name": "stderr",
     "output_type": "stream",
     "text": [
      " 95%|█████████▌| 38/40 [53:22<02:48, 84.23s/it]"
     ]
    },
    {
     "name": "stdout",
     "output_type": "stream",
     "text": [
      "EPOCH: 38/40\n",
      "\t Train loss: 0.061862196773290634, Test loss:0.06828991323709488\n"
     ]
    },
    {
     "name": "stderr",
     "output_type": "stream",
     "text": [
      " 98%|█████████▊| 39/40 [54:46<01:24, 84.21s/it]"
     ]
    },
    {
     "name": "stdout",
     "output_type": "stream",
     "text": [
      "EPOCH: 39/40\n",
      "\t Train loss: 0.06158914789557457, Test loss:0.06888316571712494\n"
     ]
    },
    {
     "name": "stderr",
     "output_type": "stream",
     "text": [
      "100%|██████████| 40/40 [56:10<00:00, 84.26s/it]"
     ]
    },
    {
     "name": "stdout",
     "output_type": "stream",
     "text": [
      "EPOCH: 40/40\n",
      "\t Train loss: 0.06141534447669983, Test loss:0.06916684657335281\n",
      "ModelTrainer.train: total training time 3370.53\n"
     ]
    },
    {
     "name": "stderr",
     "output_type": "stream",
     "text": [
      "\n"
     ]
    },
    {
     "data": {
      "image/png": "[encoded data removed]",
      "text/plain": [
       "<Figure size 640x480 with 1 Axes>"
      ]
     },
     "metadata": {},
     "output_type": "display_data"
    }
   ],
   "source": [
    "#train the model\n",
    "model_trainer.train_model()"
   ]
  }
 ],
 "metadata": {
  "kernelspec": {
   "display_name": ".venv",
   "language": "python",
   "name": "python3"
  },
  "language_info": {
   "codemirror_mode": {
    "name": "ipython",
    "version": 3
   },
   "file_extension": ".py",
   "mimetype": "text/x-python",
   "name": "python",
   "nbconvert_exporter": "python",
   "pygments_lexer": "ipython3",
   "version": "3.8.10"
  },
  "orig_nbformat": 4
 },
 "nbformat": 4,
 "nbformat_minor": 2
}
