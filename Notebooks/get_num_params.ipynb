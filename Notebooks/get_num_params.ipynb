{
 "cells": [
  {
   "cell_type": "code",
   "execution_count": 2,
   "metadata": {},
   "outputs": [
    {
     "name": "stdout",
     "output_type": "stream",
     "text": [
      "Total number of parameters: 30833153\n"
     ]
    }
   ],
   "source": [
    "import os\n",
    "os.chdir(\"..\")\n",
    "\n",
    "from radcloud.models.unet import unet\n",
    "\n",
    "\n",
    "#initialize the unet\n",
    "unet_model = unet(\n",
    "    encoder_input_channels= 40,\n",
    "    encoder_out_channels= (128,256,512),\n",
    "    decoder_input_channels= (1024,512,256),\n",
    "    decoder_out_channels= 128,\n",
    "    output_channels= 1,\n",
    "    retain_dimmension= False,\n",
    "    input_dimmensions= (64,48)\n",
    ")\n",
    "\n",
    "total_params = sum(p.numel() for p in unet_model.parameters())\n",
    "print(f\"Total number of parameters: {total_params}\")\n"
   ]
  }
 ],
 "metadata": {
  "kernelspec": {
   "display_name": "radar-dev",
   "language": "python",
   "name": "python3"
  },
  "language_info": {
   "codemirror_mode": {
    "name": "ipython",
    "version": 3
   },
   "file_extension": ".py",
   "mimetype": "text/x-python",
   "name": "python",
   "nbconvert_exporter": "python",
   "pygments_lexer": "ipython3",
   "version": "3.8.17"
  },
  "orig_nbformat": 4
 },
 "nbformat": 4,
 "nbformat_minor": 2
}
